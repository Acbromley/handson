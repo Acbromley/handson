{
 "cells": [
  {
   "cell_type": "markdown",
   "id": "33a722a3-3ffc-48e2-ad35-338dfea4f0d5",
   "metadata": {},
   "source": [
    "# Data Science Tools and Ecosystem"
   ]
  },
  {
   "cell_type": "markdown",
   "id": "c4d7b760-ba5d-4869-b0c9-fb84abe8e1a9",
   "metadata": {},
   "source": [
    "In this notebook, Data Science Tools and Ecosystem are summarized."
   ]
  },
  {
   "cell_type": "markdown",
   "id": "86975ae7-af25-42c8-bad1-63200d97f745",
   "metadata": {},
   "source": [
    "List popular languages for Data Science\n",
    "\n",
    "<ul>\n",
    "\n",
    "**Python**\n",
    "\n",
    "**R**\n",
    "\n",
    "**SQL**\n",
    "\n",
    "**Java**\n",
    "\n",
    "</ul>"
   ]
  },
  {
   "cell_type": "markdown",
   "id": "3cae1319-96b8-453c-91eb-83485846fd24",
   "metadata": {},
   "source": [
    "Some of the commonly used libraries used by Data Scientists include:\n",
    "    \n",
    "    1. Pandas\n",
    "    2. TensorFlow\n",
    "    3. NumPy\n",
    "    4. Scikit-Learn"
   ]
  },
  {
   "cell_type": "markdown",
   "id": "8c5e485e-69c0-4dde-b833-c6468e53dabb",
   "metadata": {},
   "source": [
    "Some of the popular languages that Data Scientists use  are:\n",
    "    \n",
    "    1. Python\n",
    "    2. R\n",
    "    3. SQL\n",
    "    4. Java\n",
    "    "
   ]
  },
  {
   "cell_type": "markdown",
   "id": "baed23de-c292-44dd-be6d-35215a5d8131",
   "metadata": {
    "tags": []
   },
   "source": [
    "Data Science Tools \n",
    "\n",
    "--------------------\n",
    "\n",
    "Apache Spark \n",
    "\n",
    "SAS \n",
    "\n",
    "BigML "
   ]
  },
  {
   "cell_type": "markdown",
   "id": "0ffde4bf-8ea2-4bea-8d51-1cadfe501361",
   "metadata": {},
   "source": [
    "### Below are a few examples of evaluating arithmetic expressions in Python"
   ]
  },
  {
   "cell_type": "code",
   "execution_count": 3,
   "id": "40921b4f-45f2-415e-8131-562d5c0aeaca",
   "metadata": {
    "tags": []
   },
   "outputs": [
    {
     "data": {
      "text/plain": [
       "17"
      ]
     },
     "execution_count": 3,
     "metadata": {},
     "output_type": "execute_result"
    }
   ],
   "source": [
    "#This is a simple arithmetic expression to multiply then add integers.\n",
    "(3*4)+5"
   ]
  },
  {
   "cell_type": "code",
   "execution_count": 4,
   "id": "e8a635ae-6d37-4519-8c58-047180cbf123",
   "metadata": {
    "tags": []
   },
   "outputs": [
    {
     "data": {
      "text/plain": [
       "3.3333333333333335"
      ]
     },
     "execution_count": 4,
     "metadata": {},
     "output_type": "execute_result"
    }
   ],
   "source": [
    "# This will convert 200 minutes to hours by dividing by 60\n",
    "200/60"
   ]
  },
  {
   "cell_type": "markdown",
   "id": "e9021e88-0721-4142-aa47-0d138c58b45f",
   "metadata": {},
   "source": [
    "## Author"
   ]
  },
  {
   "cell_type": "markdown",
   "id": "e6a94518-921b-4bdb-8094-48a07543a077",
   "metadata": {},
   "source": [
    "Aaron Bromley"
   ]
  },
  {
   "cell_type": "code",
   "execution_count": null,
   "id": "0ab1f542-4181-4c4b-a88d-94439aa7ea5c",
   "metadata": {},
   "outputs": [],
   "source": []
  }
 ],
 "metadata": {
  "kernelspec": {
   "display_name": "Python",
   "language": "python",
   "name": "conda-env-python-py"
  },
  "language_info": {
   "codemirror_mode": {
    "name": "ipython",
    "version": 3
   },
   "file_extension": ".py",
   "mimetype": "text/x-python",
   "name": "python",
   "nbconvert_exporter": "python",
   "pygments_lexer": "ipython3",
   "version": "3.7.12"
  }
 },
 "nbformat": 4,
 "nbformat_minor": 5
}
